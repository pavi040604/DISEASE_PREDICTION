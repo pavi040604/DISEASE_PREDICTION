{
  "cells": [
    {
      "cell_type": "markdown",
      "metadata": {
        "id": "N0WWINoe_H78"
      },
      "source": [
        "##### Copyright 2024 Google LLC."
      ]
    },
    {
      "cell_type": "code",
      "execution_count": 1,
      "metadata": {
        "cellView": "form",
        "id": "KCbtuTFR_Qot"
      },
      "outputs": [],
      "source": [
        "# @title Licensed under the Apache License, Version 2.0 (the \"License\");\n",
        "# you may not use this file except in compliance with the License.\n",
        "# You may obtain a copy of the License at\n",
        "#\n",
        "# https://www.apache.org/licenses/LICENSE-2.0\n",
        "#\n",
        "# Unless required by applicable law or agreed to in writing, software\n",
        "# distributed under the License is distributed on an \"AS IS\" BASIS,\n",
        "# WITHOUT WARRANTIES OR CONDITIONS OF ANY KIND, either express or implied.\n",
        "# See the License for the specific language governing permissions and\n",
        "# limitations under the License."
      ]
    },
    {
      "cell_type": "markdown",
      "metadata": {
        "id": "H3LrD1zZ_T1v"
      },
      "source": [
        "# Gemma - Game Design Brainstorming\n",
        "\n",
        "This cookbook illustrates how you can employ the instruction-tuned model version of Gemma as a chatbot to aid in your game design process by fostering brainstorming sessions effectively.\n",
        "\n",
        "<table align=\"left\">\n",
        "  <td>\n",
        "    <a target=\"_blank\" href=\"https://colab.research.google.com/github/google-gemini/gemma-cookbook/blob/main/Gemma/[Gemma_2]Game_Design_Brainstorming.ipynb\"><img src=\"https://www.tensorflow.org/images/colab_logo_32px.png\" />Run in Google Colab</a>\n",
        "  </td>\n",
        "</table>"
      ]
    },
    {
      "cell_type": "markdown",
      "metadata": {
        "id": "00NyqqWcAXw1"
      },
      "source": [
        "## Setup\n",
        "\n",
        "### Select the Colab runtime\n",
        "To complete this tutorial, you'll need to have a Colab runtime with sufficient resources to run the Gemma model. In this case, you can use a T4 GPU:\n",
        "\n",
        "1. In the upper-right of the Colab window, select **▾ (Additional connection options)**.\n",
        "2. Select **Change runtime type**.\n",
        "3. Under **Hardware accelerator**, select **T4 GPU**.\n",
        "\n",
        "\n",
        "### Gemma setup on Kaggle\n",
        "To complete this tutorial, you'll first need to complete the setup instructions at [Gemma setup](https://ai.google.dev/gemma/docs/setup). The Gemma setup instructions show you how to do the following:\n",
        "\n",
        "* Get access to Gemma on kaggle.com.\n",
        "* Select a Colab runtime with sufficient resources to run the Gemma 2B model.\n",
        "* Generate and configure a Kaggle username and API key.\n",
        "\n",
        "After you've completed the Gemma setup, move on to the next section, where you'll set environment variables for your Colab environment."
      ]
    },
    {
      "cell_type": "markdown",
      "metadata": {
        "id": "ufH54qq0A7aJ"
      },
      "source": [
        "### Set environment variables\n",
        "\n",
        "Set environment variables for `KAGGLE_USERNAME` and `KAGGLE_KEY`."
      ]
    },
    {
      "cell_type": "code",
      "source": [
        "import os\n",
        "os.environ[\"kaggle_username\"] = \"pavit0040604nis\"\n"
      ],
      "metadata": {
        "id": "iw8qXAy03Uaq"
      },
      "execution_count": 2,
      "outputs": []
    },
    {
      "cell_type": "code",
      "execution_count": 3,
      "metadata": {
        "id": "ybKQhkYrBNkv"
      },
      "outputs": [],
      "source": [
        "import os\n",
        "from google.colab import userdata\n",
        "\n",
        "os.environ[\"KERAS_BACKEND\"] = \"jax\"  # Or \"tensorflow\" or \"torch\".\n",
        "\n",
        "# Note: `userdata.get` is a Colab API. If you're not using Colab, set the env\n",
        "# vars as appropriate for your system.\n",
        "os.environ[\"kaggle_username\"] = \"pavit0040604nis\"\n",
        "os.environ[\"kaggle_key\"] = \"fd2b0f46519b653d6ffe018d1dc1666d\""
      ]
    },
    {
      "cell_type": "markdown",
      "metadata": {
        "id": "BLwEJIILBQ17"
      },
      "source": [
        "### Install dependencies\n",
        "\n",
        "Install Keras and KerasNLP."
      ]
    },
    {
      "cell_type": "code",
      "execution_count": 4,
      "metadata": {
        "id": "VPurjYcxBTxl"
      },
      "outputs": [],
      "source": [
        "# Install Keras 3 last. See https://keras.io/getting_started/ for more details.\n",
        "!pip install -q -U keras-nlp\n",
        "!pip install -q -U keras"
      ]
    },
    {
      "cell_type": "markdown",
      "metadata": {
        "id": "QOj_rAJtkOtV"
      },
      "source": [
        "## Core Concept"
      ]
    },
    {
      "cell_type": "code",
      "execution_count": 5,
      "metadata": {
        "id": "7Fzu_ah4kR9E"
      },
      "outputs": [],
      "source": [
        "# A super concise description of your game\n",
        "pitch = \"In the heart of a reimagined Joseon Dynasty, where steam-powered machines and clockwork contraptions reign supreme, embark on an epic adventure to unravel the mysteries of a forgotten past and shape the destiny of a nation on the brink of revolution.\""
      ]
    },
    {
      "cell_type": "code",
      "source": [
        "from google.colab import files\n",
        "files.upload()\n",
        "!mkdir -p ~/.kaggle\n",
        "!cp kaggle.json ~/.kaggle/\n",
        "!chmod 600 ~/.kaggle/kaggle.json\n"
      ],
      "metadata": {
        "id": "gg3wmjCl4lPC",
        "outputId": "b8890502-4a13-476a-84d9-eaf49bbda3a9",
        "colab": {
          "base_uri": "https://localhost:8080/",
          "height": 73
        }
      },
      "execution_count": 6,
      "outputs": [
        {
          "output_type": "display_data",
          "data": {
            "text/plain": [
              "<IPython.core.display.HTML object>"
            ],
            "text/html": [
              "\n",
              "     <input type=\"file\" id=\"files-19d1eb7a-e74e-4783-89cb-abd8bbc55d8d\" name=\"files[]\" multiple disabled\n",
              "        style=\"border:none\" />\n",
              "     <output id=\"result-19d1eb7a-e74e-4783-89cb-abd8bbc55d8d\">\n",
              "      Upload widget is only available when the cell has been executed in the\n",
              "      current browser session. Please rerun this cell to enable.\n",
              "      </output>\n",
              "      <script>// Copyright 2017 Google LLC\n",
              "//\n",
              "// Licensed under the Apache License, Version 2.0 (the \"License\");\n",
              "// you may not use this file except in compliance with the License.\n",
              "// You may obtain a copy of the License at\n",
              "//\n",
              "//      http://www.apache.org/licenses/LICENSE-2.0\n",
              "//\n",
              "// Unless required by applicable law or agreed to in writing, software\n",
              "// distributed under the License is distributed on an \"AS IS\" BASIS,\n",
              "// WITHOUT WARRANTIES OR CONDITIONS OF ANY KIND, either express or implied.\n",
              "// See the License for the specific language governing permissions and\n",
              "// limitations under the License.\n",
              "\n",
              "/**\n",
              " * @fileoverview Helpers for google.colab Python module.\n",
              " */\n",
              "(function(scope) {\n",
              "function span(text, styleAttributes = {}) {\n",
              "  const element = document.createElement('span');\n",
              "  element.textContent = text;\n",
              "  for (const key of Object.keys(styleAttributes)) {\n",
              "    element.style[key] = styleAttributes[key];\n",
              "  }\n",
              "  return element;\n",
              "}\n",
              "\n",
              "// Max number of bytes which will be uploaded at a time.\n",
              "const MAX_PAYLOAD_SIZE = 100 * 1024;\n",
              "\n",
              "function _uploadFiles(inputId, outputId) {\n",
              "  const steps = uploadFilesStep(inputId, outputId);\n",
              "  const outputElement = document.getElementById(outputId);\n",
              "  // Cache steps on the outputElement to make it available for the next call\n",
              "  // to uploadFilesContinue from Python.\n",
              "  outputElement.steps = steps;\n",
              "\n",
              "  return _uploadFilesContinue(outputId);\n",
              "}\n",
              "\n",
              "// This is roughly an async generator (not supported in the browser yet),\n",
              "// where there are multiple asynchronous steps and the Python side is going\n",
              "// to poll for completion of each step.\n",
              "// This uses a Promise to block the python side on completion of each step,\n",
              "// then passes the result of the previous step as the input to the next step.\n",
              "function _uploadFilesContinue(outputId) {\n",
              "  const outputElement = document.getElementById(outputId);\n",
              "  const steps = outputElement.steps;\n",
              "\n",
              "  const next = steps.next(outputElement.lastPromiseValue);\n",
              "  return Promise.resolve(next.value.promise).then((value) => {\n",
              "    // Cache the last promise value to make it available to the next\n",
              "    // step of the generator.\n",
              "    outputElement.lastPromiseValue = value;\n",
              "    return next.value.response;\n",
              "  });\n",
              "}\n",
              "\n",
              "/**\n",
              " * Generator function which is called between each async step of the upload\n",
              " * process.\n",
              " * @param {string} inputId Element ID of the input file picker element.\n",
              " * @param {string} outputId Element ID of the output display.\n",
              " * @return {!Iterable<!Object>} Iterable of next steps.\n",
              " */\n",
              "function* uploadFilesStep(inputId, outputId) {\n",
              "  const inputElement = document.getElementById(inputId);\n",
              "  inputElement.disabled = false;\n",
              "\n",
              "  const outputElement = document.getElementById(outputId);\n",
              "  outputElement.innerHTML = '';\n",
              "\n",
              "  const pickedPromise = new Promise((resolve) => {\n",
              "    inputElement.addEventListener('change', (e) => {\n",
              "      resolve(e.target.files);\n",
              "    });\n",
              "  });\n",
              "\n",
              "  const cancel = document.createElement('button');\n",
              "  inputElement.parentElement.appendChild(cancel);\n",
              "  cancel.textContent = 'Cancel upload';\n",
              "  const cancelPromise = new Promise((resolve) => {\n",
              "    cancel.onclick = () => {\n",
              "      resolve(null);\n",
              "    };\n",
              "  });\n",
              "\n",
              "  // Wait for the user to pick the files.\n",
              "  const files = yield {\n",
              "    promise: Promise.race([pickedPromise, cancelPromise]),\n",
              "    response: {\n",
              "      action: 'starting',\n",
              "    }\n",
              "  };\n",
              "\n",
              "  cancel.remove();\n",
              "\n",
              "  // Disable the input element since further picks are not allowed.\n",
              "  inputElement.disabled = true;\n",
              "\n",
              "  if (!files) {\n",
              "    return {\n",
              "      response: {\n",
              "        action: 'complete',\n",
              "      }\n",
              "    };\n",
              "  }\n",
              "\n",
              "  for (const file of files) {\n",
              "    const li = document.createElement('li');\n",
              "    li.append(span(file.name, {fontWeight: 'bold'}));\n",
              "    li.append(span(\n",
              "        `(${file.type || 'n/a'}) - ${file.size} bytes, ` +\n",
              "        `last modified: ${\n",
              "            file.lastModifiedDate ? file.lastModifiedDate.toLocaleDateString() :\n",
              "                                    'n/a'} - `));\n",
              "    const percent = span('0% done');\n",
              "    li.appendChild(percent);\n",
              "\n",
              "    outputElement.appendChild(li);\n",
              "\n",
              "    const fileDataPromise = new Promise((resolve) => {\n",
              "      const reader = new FileReader();\n",
              "      reader.onload = (e) => {\n",
              "        resolve(e.target.result);\n",
              "      };\n",
              "      reader.readAsArrayBuffer(file);\n",
              "    });\n",
              "    // Wait for the data to be ready.\n",
              "    let fileData = yield {\n",
              "      promise: fileDataPromise,\n",
              "      response: {\n",
              "        action: 'continue',\n",
              "      }\n",
              "    };\n",
              "\n",
              "    // Use a chunked sending to avoid message size limits. See b/62115660.\n",
              "    let position = 0;\n",
              "    do {\n",
              "      const length = Math.min(fileData.byteLength - position, MAX_PAYLOAD_SIZE);\n",
              "      const chunk = new Uint8Array(fileData, position, length);\n",
              "      position += length;\n",
              "\n",
              "      const base64 = btoa(String.fromCharCode.apply(null, chunk));\n",
              "      yield {\n",
              "        response: {\n",
              "          action: 'append',\n",
              "          file: file.name,\n",
              "          data: base64,\n",
              "        },\n",
              "      };\n",
              "\n",
              "      let percentDone = fileData.byteLength === 0 ?\n",
              "          100 :\n",
              "          Math.round((position / fileData.byteLength) * 100);\n",
              "      percent.textContent = `${percentDone}% done`;\n",
              "\n",
              "    } while (position < fileData.byteLength);\n",
              "  }\n",
              "\n",
              "  // All done.\n",
              "  yield {\n",
              "    response: {\n",
              "      action: 'complete',\n",
              "    }\n",
              "  };\n",
              "}\n",
              "\n",
              "scope.google = scope.google || {};\n",
              "scope.google.colab = scope.google.colab || {};\n",
              "scope.google.colab._files = {\n",
              "  _uploadFiles,\n",
              "  _uploadFilesContinue,\n",
              "};\n",
              "})(self);\n",
              "</script> "
            ]
          },
          "metadata": {}
        },
        {
          "output_type": "stream",
          "name": "stdout",
          "text": [
            "Saving kaggle.json to kaggle (2).json\n"
          ]
        }
      ]
    },
    {
      "cell_type": "code",
      "source": [
        "import os\n",
        "import shutil\n",
        "\n",
        "# Define the target directory\n",
        "kaggle_dir = \"/root/.kaggle/\"\n",
        "\n",
        "# Create the directory if it doesn't exist\n",
        "os.makedirs(kaggle_dir, exist_ok=True)\n",
        "\n",
        "# Move kaggle.json to the correct location\n",
        "shutil.move(\"kaggle.json\", os.path.join(kaggle_dir, \"kaggle.json\"))\n",
        "\n",
        "# Set the correct permissions\n",
        "os.chmod(os.path.join(kaggle_dir, \"kaggle.json\"), 600)\n",
        "\n",
        "print(\"✅ Kaggle API key set up successfully!\")\n"
      ],
      "metadata": {
        "id": "jaS5SvMu4lSe",
        "outputId": "dea3e918-f72a-428f-9bb3-50dca7df6bad",
        "colab": {
          "base_uri": "https://localhost:8080/",
          "height": 345
        }
      },
      "execution_count": 10,
      "outputs": [
        {
          "output_type": "error",
          "ename": "Error",
          "evalue": "Destination path '/root/.kaggle/kaggle.json' already exists",
          "traceback": [
            "\u001b[0;31m---------------------------------------------------------------------------\u001b[0m",
            "\u001b[0;31mError\u001b[0m                                     Traceback (most recent call last)",
            "\u001b[0;32m<ipython-input-10-602e8facdc9e>\u001b[0m in \u001b[0;36m<cell line: 0>\u001b[0;34m()\u001b[0m\n\u001b[1;32m      3\u001b[0m \u001b[0;34m\u001b[0m\u001b[0m\n\u001b[1;32m      4\u001b[0m \u001b[0;31m# Move kaggle.json to the right directory\u001b[0m\u001b[0;34m\u001b[0m\u001b[0;34m\u001b[0m\u001b[0m\n\u001b[0;32m----> 5\u001b[0;31m \u001b[0mshutil\u001b[0m\u001b[0;34m.\u001b[0m\u001b[0mmove\u001b[0m\u001b[0;34m(\u001b[0m\u001b[0;34m\"kaggle.json\"\u001b[0m\u001b[0;34m,\u001b[0m \u001b[0;34m\"/root/.kaggle/\"\u001b[0m\u001b[0;34m)\u001b[0m\u001b[0;34m\u001b[0m\u001b[0;34m\u001b[0m\u001b[0m\n\u001b[0m\u001b[1;32m      6\u001b[0m \u001b[0;34m\u001b[0m\u001b[0m\n\u001b[1;32m      7\u001b[0m \u001b[0;31m# Set permissions\u001b[0m\u001b[0;34m\u001b[0m\u001b[0;34m\u001b[0m\u001b[0m\n",
            "\u001b[0;32m/usr/lib/python3.11/shutil.py\u001b[0m in \u001b[0;36mmove\u001b[0;34m(src, dst, copy_function)\u001b[0m\n\u001b[1;32m    849\u001b[0m \u001b[0;34m\u001b[0m\u001b[0m\n\u001b[1;32m    850\u001b[0m         \u001b[0;32mif\u001b[0m \u001b[0mos\u001b[0m\u001b[0;34m.\u001b[0m\u001b[0mpath\u001b[0m\u001b[0;34m.\u001b[0m\u001b[0mexists\u001b[0m\u001b[0;34m(\u001b[0m\u001b[0mreal_dst\u001b[0m\u001b[0;34m)\u001b[0m\u001b[0;34m:\u001b[0m\u001b[0;34m\u001b[0m\u001b[0;34m\u001b[0m\u001b[0m\n\u001b[0;32m--> 851\u001b[0;31m             \u001b[0;32mraise\u001b[0m \u001b[0mError\u001b[0m\u001b[0;34m(\u001b[0m\u001b[0;34m\"Destination path '%s' already exists\"\u001b[0m \u001b[0;34m%\u001b[0m \u001b[0mreal_dst\u001b[0m\u001b[0;34m)\u001b[0m\u001b[0;34m\u001b[0m\u001b[0;34m\u001b[0m\u001b[0m\n\u001b[0m\u001b[1;32m    852\u001b[0m     \u001b[0;32mtry\u001b[0m\u001b[0;34m:\u001b[0m\u001b[0;34m\u001b[0m\u001b[0;34m\u001b[0m\u001b[0m\n\u001b[1;32m    853\u001b[0m         \u001b[0mos\u001b[0m\u001b[0;34m.\u001b[0m\u001b[0mrename\u001b[0m\u001b[0;34m(\u001b[0m\u001b[0msrc\u001b[0m\u001b[0;34m,\u001b[0m \u001b[0mreal_dst\u001b[0m\u001b[0;34m)\u001b[0m\u001b[0;34m\u001b[0m\u001b[0;34m\u001b[0m\u001b[0m\n",
            "\u001b[0;31mError\u001b[0m: Destination path '/root/.kaggle/kaggle.json' already exists"
          ]
        }
      ]
    },
    {
      "cell_type": "markdown",
      "source": [],
      "metadata": {
        "id": "qKeDmJAP5wNF"
      }
    },
    {
      "cell_type": "markdown",
      "metadata": {
        "id": "cwjJp6YZj2jp"
      },
      "source": [
        "## Load Model"
      ]
    },
    {
      "cell_type": "code",
      "execution_count": 7,
      "metadata": {
        "id": "9NQ431sej9Q6"
      },
      "outputs": [],
      "source": [
        "import keras\n",
        "import keras_nlp\n",
        "\n",
        "# Run at half precision to fit in memory\n",
        "keras.config.set_floatx(\"bfloat16\")\n",
        "\n",
        "import textwrap\n",
        "from IPython.display import Markdown\n",
        "\n",
        "\n",
        "def to_markdown(text):\n",
        "    text = text.replace(\"•\", \"  *\")\n",
        "    return Markdown(textwrap.indent(text, \"> \", predicate=lambda _: True))\n",
        "\n",
        "gemma_lm = keras_nlp.models.GemmaCausalLM.from_preset(\"gemma2_instruct_2b_en\")\n",
        "gemma_lm.compile(sampler=\"top_k\")\n",
        "\n",
        "\n",
        "class ChatState():\n",
        "  \"\"\"\n",
        "  Manages the conversation history for a turn-based chatbot\n",
        "  Follows the turn-based conversation guidelines for the Gemma family of models\n",
        "  documented at https://ai.google.dev/gemma/docs/formatting\n",
        "  \"\"\"\n",
        "\n",
        "  __START_TURN_USER__ = \"<start_of_turn>user\\n\"\n",
        "  __START_TURN_MODEL__ = \"<start_of_turn>model\\n\"\n",
        "  __END_TURN__ = \"<end_of_turn>\\n\"\n",
        "\n",
        "  def __init__(self, model, system=\"\"):\n",
        "    \"\"\"\n",
        "    Initializes the chat state.\n",
        "\n",
        "    Args:\n",
        "        model: The language model to use for generating responses.\n",
        "        system: (Optional) System instructions or bot description.\n",
        "    \"\"\"\n",
        "    self.model = model\n",
        "    self.system = system\n",
        "    self.history = []\n",
        "\n",
        "  def add_to_history_as_user(self, message):\n",
        "      \"\"\"\n",
        "      Adds a user message to the history with start/end turn markers.\n",
        "      \"\"\"\n",
        "      self.history.append(self.__START_TURN_USER__ + message + self.__END_TURN__)\n",
        "\n",
        "  def add_to_history_as_model(self, message):\n",
        "      \"\"\"\n",
        "      Adds a model response to the history with start/end turn markers.\n",
        "      \"\"\"\n",
        "      self.history.append(self.__START_TURN_MODEL__ + message)\n",
        "\n",
        "  def get_history(self):\n",
        "      \"\"\"\n",
        "      Returns the entire chat history as a single string.\n",
        "      \"\"\"\n",
        "      return \"\".join([*self.history])\n",
        "\n",
        "  def get_full_prompt(self):\n",
        "    \"\"\"\n",
        "    Builds the prompt for the language model, including history and system description.\n",
        "    \"\"\"\n",
        "    prompt = self.get_history() + self.__START_TURN_MODEL__\n",
        "    if len(self.system)>0:\n",
        "      prompt = self.system + \"\\n\" + prompt\n",
        "    return prompt\n",
        "\n",
        "  def send_message(self, message):\n",
        "    \"\"\"\n",
        "    Handles sending a user message and getting a model response.\n",
        "\n",
        "    Args:\n",
        "        message: The user's message.\n",
        "\n",
        "    Returns:\n",
        "        The model's response.\n",
        "    \"\"\"\n",
        "    self.add_to_history_as_user(message)\n",
        "    prompt = self.get_full_prompt()\n",
        "    response = self.model.generate(prompt, max_length=4096)\n",
        "    result = response.replace(prompt, \"\")  # Extract only the new response\n",
        "    self.add_to_history_as_model(result)\n",
        "    return result\n",
        "\n",
        "  def show_history(self):\n",
        "    for h in self.history:\n",
        "      print(h)\n",
        "\n",
        "\n",
        "chat = ChatState(gemma_lm)"
      ]
    },
    {
      "cell_type": "markdown",
      "metadata": {
        "id": "slvLngXKlIIh"
      },
      "source": [
        "## Elaborate with the given core game concept"
      ]
    },
    {
      "cell_type": "code",
      "execution_count": 8,
      "metadata": {
        "id": "B49foWx2lQe0",
        "outputId": "1f5b405c-6cfe-4de6-aeb4-d94074669a62",
        "colab": {
          "base_uri": "https://localhost:8080/",
          "height": 784
        }
      },
      "outputs": [
        {
          "output_type": "execute_result",
          "data": {
            "text/plain": [
              "<IPython.core.display.Markdown object>"
            ],
            "text/markdown": "> ## A Clockwork Dynasty: Unveiling the Secrets of a Reimagined Joseon\n> \n> This is a captivating concept for a game with a unique blend of historical and futuristic elements. Imagine a Joseon Dynasty, but instead of traditional bows and swords, it's powered by steam engines and intricate clockwork mechanisms. This world is on the cusp of a revolution, fueled by technological advancements and societal tensions, making for an intriguing narrative and gameplay experience. \n> \n> Here is a deeper dive into potential elements that could bring this game to life:\n> \n> **Story & Setting:**\n> \n> * **A World of Steam and Secrets:** The player is thrust into a world where traditional Joseon architecture is juxtaposed with towering clockwork factories, steam-powered airships soaring above ornate palaces, and intricate automata patrolling the streets. This creates a visually stunning environment with both historical charm and a futuristic edge. \n> * **The Whispers of the Past:** Ancient artifacts and hidden texts hold the key to unlocking the secrets of a forgotten past. The revolution is fueled by a desire to break free from an oppressive, technologically driven regime. The player must unravel the mysteries of this lost civilization to understand the true nature of the current power struggles.\n> * **Choices that Shape Destiny:** The player's actions have a direct impact on the course of the nation. They can choose to support the revolutionaries or align with the current regime, each path leading to distinct consequences. Will the nation embrace progress or return to traditional values? \n> * **A Cast of Complicated Characters:** The player can encounter diverse characters, some loyal to the current regime, others seeking to dismantle it. They can be revolutionaries, inventors, merchants, or members of the aristocracy, all driven by their own motivations and desires.  \n> * **The Clockwork Conspiracy:** The very heart of the game's conflict lies in the control of a powerful clockwork device, possibly a central source of energy or a weapon of mass destruction, hidden by the past. The player must navigate a web of intrigue and uncover its secrets to prevent a catastrophic outcome.\n> \n>  **Gameplay:**\n> \n> * **Strategic Combat:** Combines classic Joseon-style combat with steampunk weaponry like steam-powered gauntlets and automaton companions.  The player can strategically use environment, gadgets, and clockwork contraptions to gain the upper hand in battles. \n> * **Exploration and Discovery:** A vast open world filled with diverse environments, bustling cities, and hidden secrets.  Players can explore ancient ruins, delve into the depths of clockwork factories, and unravel the mysteries of the past. \n> * **Character Development:** Players can choose their character’s background, influencing their abilities, relationships, and overall playstyle. They can also customize their appearance and skills. \n> * **Crafting and Invention:** The player can build and modify their own clockwork contraptions, weapons, and even tools to aid them in their journey. \n> \n> \n> **Possible Genres:**\n> \n> * **Action RPG:**  Combines fast-paced combat with exploration and character development. \n> * **Narrative-driven Adventure:**  Emphasizes storytelling and player choices, shaping the fate of the nation.\n> * **Historical Fantasy:** Blends historical elements with steampunk elements for a unique setting. \n> \n> \n>  **Overall:**\n> \n>  This game offers a rich and immersive experience, blending historical elements with futuristic technology. The core concept allows for compelling storytelling, strategic gameplay, and engaging exploration, making it a potential masterpiece for the gaming industry. The potential for a captivating narrative, intricate character development, and a diverse world of possibilities makes \"A Clockwork Dynasty\" a truly captivating concept. \n> <end_of_turn>"
          },
          "metadata": {},
          "execution_count": 8
        }
      ],
      "source": [
        "result = chat.send_message(\n",
        "    f\"Elaborate about this game with the given core concept below.\\n{pitch}\"\n",
        ")\n",
        "to_markdown(result)"
      ]
    },
    {
      "cell_type": "markdown",
      "metadata": {
        "id": "rePDwH-kesBv"
      },
      "source": [
        "## Main Characters"
      ]
    },
    {
      "cell_type": "code",
      "execution_count": 9,
      "metadata": {
        "id": "5SWcXllmm-GW",
        "outputId": "7f5567d0-37b0-400b-c8be-48593d6eac7f",
        "colab": {
          "base_uri": "https://localhost:8080/",
          "height": 805
        }
      },
      "outputs": [
        {
          "output_type": "execute_result",
          "data": {
            "text/plain": [
              "<IPython.core.display.Markdown object>"
            ],
            "text/markdown": "> Here are some main character ideas that would fit within \"A Clockwork Dynasty\", embracing the blend of historical and futuristic elements:\n> \n> **1.  The Renegade Inventor:  Han Seong-Jin**\n> \n> * **Background:** An orphan who grew up on the streets, Han witnessed firsthand the injustices of the regime. Driven by a thirst for justice and fueled by a talent for clockwork engineering, he becomes a revolutionary leader.\n> * **Personality:**  A charismatic and cunning leader with a quick wit and a knack for improvisation.  He believes in progress but knows the dangers of unchecked technology, often questioning the morality of the regime's ambitions.\n> * **Special Ability:**  \"Chronosmith\": Can manipulate clockwork mechanisms to a surprising degree, creating powerful gadgets or augmenting his own body with mechanical enhancements.\n> * **Visuals:** Lean and agile, often seen sporting goggles and a worn leather apron. His attire could be a mix of practical gear and salvaged clockwork parts for a unique aesthetic.\n> \n> **2. The Noble Scholar: Kim So-Yeon**\n> \n> * **Background:** A descendant of a prominent Joseon family, So-Yeon has always been fascinated by the ancient past and the forgotten knowledge hidden within it.  She finds herself drawn to the rebellion and the fight for a better future.\n> * **Personality:**  A thoughtful and introspective character, deeply knowledgeable about history, but struggling to reconcile her family's legacy with the realities of the revolution. \n> * **Special Ability:**  \"The Archivist\": Can decipher and manipulate ancient texts, unlocking hidden knowledge and revealing secrets of the past. \n> * **Visuals:** Elegant and graceful, with flowing hair and delicate jewelry. She would be dressed in traditional court attire but with a touch of modernity, like a hidden pocket for her tools.\n> \n> **3. The Shadowy Agent:  Park Jun-Seo**\n> \n> * **Background:**  A former agent of the regime, Jun-Seo is disillusioned with the system's corruption and seeks to dismantle it from within. He is a master manipulator and strategist, adept at using technology to his advantage.\n> * **Personality:**  Cold and calculating, driven by a thirst for power and a desire to reshape society. He is capable of great empathy and loyalty to those he sees as worthy.\n> * **Special Ability:** \"The Cipher\": Possesses a vast network of contacts and access to secret information. He can manipulate events through subtle manipulation and leverage his connections.\n> * **Visuals:** Darker complexion, sharp features, and a stoic expression. A sleek, dark outfit would be a contrast to his cold exterior.\n> \n> **4. The Unconventional Warrior:  Lee Mi-Jin**\n> \n> * **Background**: A talented warrior who has seen both the brutality of traditional warfare and the power of technology. She is fiercely independent and distrustful of both the regime and the revolution.\n> * **Personality:** Strong-willed and pragmatic, she believes in strength and efficiency above sentiment. Her loyalty is earned, not given, and she's willing to fight for those she trusts.\n> * **Special Ability:** \"Automaton Warrior\":  Master of a unique style of combat that combines traditional weapons with the precision and agility of clockwork automata, which she commands with incredible skill.  \n> * **Visuals:**  A warrior's physique with scars to prove her battles. She wears practical, worn leather armor with intricate clockwork details. \n> \n> \n> **Additional Considerations:**\n> \n> * **Interconnected Relationships:** These characters can have complex relationships, leading to alliances, betrayals, and personal journeys. Their individual stories will intertwine and influence the overall narrative. \n> * **Dynamic Choices:** The player's choices will affect their interactions with these characters, shaping the direction of the story.  \n> \n> \n> By combining their unique personalities, skills, and backstories, \"A Clockwork Dynasty\" has potential to create a compelling cast of characters that will draw players into this exciting world. \n> <end_of_turn>"
          },
          "metadata": {},
          "execution_count": 9
        }
      ],
      "source": [
        "result = chat.send_message(\"Design main characters.\")\n",
        "to_markdown(result)"
      ]
    },
    {
      "cell_type": "markdown",
      "metadata": {
        "id": "T6nTOt5reta2"
      },
      "source": [
        "## Villain Characters"
      ]
    },
    {
      "cell_type": "code",
      "execution_count": 10,
      "metadata": {
        "id": "eSeNGJZKWwM0",
        "outputId": "5b22bacc-d218-4f90-f476-3db285906b6b",
        "colab": {
          "base_uri": "https://localhost:8080/",
          "height": 812
        }
      },
      "outputs": [
        {
          "output_type": "execute_result",
          "data": {
            "text/plain": [
              "<IPython.core.display.Markdown object>"
            ],
            "text/markdown": "> Here are some villain ideas, playing on the tension between tradition and progress in a Joseon Dynasty, reimagined through a steampunk lens:\n> \n> **1.  Lord Kang Min-Woo, The Clockwork Emperor:**\n> \n> * **Personality:** A charismatic, ruthless leader with a deep-seated belief in technological advancement above all else. He sees himself as a modern-day ruler, ushering in an era of unprecedented prosperity through relentless technological progress.\n> * **Motivation:** Kang believes the old ways are flawed, holding humanity back. He seeks to establish a technologically controlled, almost godlike regime, using clockwork to enforce his will.\n> * **Appearance:**  A tall, commanding figure, often dressed in ornate, metallic armor with intricate clockwork details. He exudes an air of both authority and a disturbing, almost mechanical, coldness.  \n> \n> **2. Dr. Choi Jae-Hwan: The Clockwork Alchemist**\n> \n> * **Personality:** A brilliant but twisted scientist obsessed with achieving immortality and control through the manipulation of ancient, forbidden magic and clockwork. He sees technology as his tool for achieving this goal.\n> * **Motivation:** Jae-Hwan believes he is the chosen one, destined to unlock the secrets of the world through his clockwork creations, and sees himself as a god-like figure who will shape the future.\n> * **Appearance:**  An eccentric and gaunt man, with wild, unkempt hair and piercing blue eyes. He wears strange, elaborate robes adorned with clockwork gears and glowing crystals. \n> \n> **3.  The Iron Guard:  The Secret Society of Clockwork Soldiers**\n> \n> * **Background:** An elite military organization loyal only to Lord Kang, they are a fearsome group of cyborgs, automatons, and clockwork-enhanced soldiers. \n> * **Motivation:** The Iron Guard is a symbol of Kang's authority, their unwavering obedience a testament to their devotion to him and their ruthless pursuit of his vision.\n> * **Appearance:**  Their uniforms are sleek and imposing, incorporating clockwork mechanisms that amplify their strength and agility. Their weaponry is a mix of traditional weapons and advanced, clockwork-driven tools. \n> \n>  **4.  The Clockwork Queen:  Lady Seo Jin-Hee**\n> \n> * **Personality:** A cunning, manipulative woman who uses her influence and beauty to manipulate the court and advance her own ambitions. She is deeply suspicious and distrustful of outsiders, including the revolutionaries, and seeks to control them.\n> * **Motivation:** Seo is obsessed with preserving the status quo, believing that tradition is the only true path towards stability. She is a skilled manipulator who sees herself as a necessary counterpoint to the revolutionaries' chaotic ambition.\n> * **Appearance:**  An elegant woman with a striking presence. She wears luxurious clothing and jewels, and often utilizes her charm and beauty to influence others, while hiding a cold, calculating mind.\n> \n> \n> **Additional Notes:**\n> \n> * **Conflict:** These villains can represent different factions within the conflict. Lord Kang might represent the regime's power, while Dr. Choi represents the more sinister aspects of technological advancement.  The Iron Guard could be a symbol of the regime's military might, while Lady Seo embodies the resistance's more subtle and manipulative tactics.\n> * **Moral Ambiguity:**  Even these villainous figures might have moments of humanity or moments where their actions are motivated by a sense of justice, even if it is twisted. \n> * **Player Agency:** The player's choices can influence the actions of these villains.  Will the player choose to confront them directly or seek a different path to dismantle their power? \n> \n> \n> \n> \n> These villains can add depth and intrigue to the \"A Clockwork Dynasty\" world. By creating a diverse cast of antagonists, you can provide compelling motivations and opportunities for engaging gameplay. \n> \n> \n> <end_of_turn>"
          },
          "metadata": {},
          "execution_count": 10
        }
      ],
      "source": [
        "result = chat.send_message(\"Design villain characters.\")\n",
        "to_markdown(result)"
      ]
    },
    {
      "cell_type": "markdown",
      "metadata": {
        "id": "Bxx6ftEve5C1"
      },
      "source": [
        "## Main Story"
      ]
    },
    {
      "cell_type": "code",
      "execution_count": 11,
      "metadata": {
        "id": "tG6HM-yJnJoF",
        "outputId": "ee95e4ea-6b64-45b7-ac29-e1fccf1fdfb4",
        "colab": {
          "base_uri": "https://localhost:8080/",
          "height": 964
        }
      },
      "outputs": [
        {
          "output_type": "execute_result",
          "data": {
            "text/plain": [
              "<IPython.core.display.Markdown object>"
            ],
            "text/markdown": "> ## A Clockwork Dynasty: The Whispers of Revolution\n> \n> **Introduction:** \n> \n> Seoul, 1888. Steam-powered airships drift through the clouds, while clockwork automata patrol the streets. The Joseon Dynasty, once steeped in tradition, now teeters on the edge of a technological revolution. The city hums with innovation, but underneath, tensions are rising as the elite, fueled by a desire for progress at any cost, clash with the oppressed masses seeking a return to a simpler, more equitable world.\n> \n> You are Han Seong-Jin, a young orphan who witnessed the brutal crackdown on the first rebellion.  You've honed your skills as a clockwork inventor and leader, driven by a burning desire to dismantle the regime's oppressive power.  \n> \n> **Development:** \n> \n> The game begins with a clandestine meeting in a hidden clockwork workshop. You are introduced to other characters:  So-Yeon, the scholarly descendant of a noble family, and Jun-Seo, a former regime agent turned rebel. They share your vision of a better future, but their paths diverge: So-Yeon seeks knowledge to understand the past, Jun-Seo seeks power to dismantle the current regime. \n> \n> As you navigate the city's underbelly, you encounter the Iron Guard, Kang Min-Woo's elite military force, who enforce his iron fist. The regime’s control is suffocating, and the people yearn for freedom. You are thrust into a world of political intrigue, daring escapes, and dangerous encounters with both the regime's forces and the revolutionaries. \n> \n> **The First Turn:  The Clockwork Conspiracy:**\n> \n> You uncover a secret conspiracy within the Iron Guard – a plan to unleash a devastating weapon powered by ancient, forbidden magic and clockwork technology.  Kang Min-Woo, the Clockwork Emperor, is the orchestrator.  The game's central conflict begins to take shape.\n> \n> You are forced to choose a side, and the consequences are profound.  Do you align yourself with Jun-Seo and his clandestine rebel network, or with So-Yeon and her pursuit of knowledge? Your choices will influence the direction of the revolution, the fate of the regime, and your own path. \n> \n> **The Rising Tension**\n> \n> The conflict intensifies as you uncover the secrets of the Clockwork Emperor's weapon.  The Iron Guard becomes more ruthless in their pursuit of control. You must race against time to expose Kang’s plot to dismantle his power, but the stakes are high.  \n> \n> You face difficult choices.  Will you trust your allies and fight alongside them? Or will you choose solitude and independence, risking the potential loss of those you hold dear? Your decisions will impact the future of the nation and your own personal journey.\n> \n> **The Turning Point:**\n> \n> A pivotal moment arrives: a clash with the Iron Guard, a daring heist to acquire crucial data, or a confrontation with Kang Min-Woo himself.  The player's choices will determine their impact on the revolution, shaping the narrative and leading to a decisive outcome.\n> \n> Will the revolution succeed? Will the Clockwork Emperor be brought to justice? Will the nation be reborn in the image of its past or its future? \n> \n> \n> **Conclusion:**\n> \n> The final chapter of the game sees the culmination of the player’s choices and the consequences that followed.  The fate of the Joseon Dynasty is in the balance, and the outcome will determine the legacy of the revolution.\n> \n> * **A New Era:** The ending can be bittersweet, with hope for a new dawn, but also with the understanding of the challenges that lie ahead in the aftermath of a tumultuous revolution, where the past and the future must coexist.\n> *  **A Cycle of Power:** The ending can also be bleak, with power shifting, leaving the future uncertain. The Clockwork Dynasty might be reborn in a more brutal form, leaving a lingering threat of tyranny.\n> * **Hope for a New World:**  A hopeful ending might involve a new system of governance, where tradition and technology coexist in harmony. The player's choices shape a new future. \n> \n> \n> \n> \n>  **Key Themes to Explore:** \n>  *  The balance between tradition and progress.\n>  *  The power and corruption of technology.\n>  *  The fight for freedom and the cost of revolution. \n>  *  The complexities of loyalty and the choices we make in the face of adversity. \n>  * The importance of individual agency against overwhelming power structures.\n> \n> \n> \n> \n> This outline provides a foundation for your game’s narrative, allowing for player agency and diverse outcomes. It's essential to weave together compelling characters, intriguing plot twists, and thought-provoking themes to create a compelling and unforgettable gaming experience. \n> <end_of_turn>"
          },
          "metadata": {},
          "execution_count": 11
        }
      ],
      "source": [
        "result = chat.send_message(\n",
        "    \"Write the main story of this game with an introduction, development, turn, and conclusion.\"\n",
        ")\n",
        "to_markdown(result)"
      ]
    },
    {
      "cell_type": "markdown",
      "metadata": {
        "id": "CNAwQXG2Tbee"
      },
      "source": [
        "## Show the chat history"
      ]
    },
    {
      "cell_type": "code",
      "execution_count": 12,
      "metadata": {
        "id": "4qW12hdKTfc2",
        "outputId": "d8555840-0d22-47b5-9a22-1e290acd08d7",
        "colab": {
          "base_uri": "https://localhost:8080/"
        }
      },
      "outputs": [
        {
          "output_type": "stream",
          "name": "stdout",
          "text": [
            "<start_of_turn>user\n",
            "Elaborate about this game with the given core concept below.\n",
            "In the heart of a reimagined Joseon Dynasty, where steam-powered machines and clockwork contraptions reign supreme, embark on an epic adventure to unravel the mysteries of a forgotten past and shape the destiny of a nation on the brink of revolution.<end_of_turn>\n",
            "\n",
            "<start_of_turn>model\n",
            "## A Clockwork Dynasty: Unveiling the Secrets of a Reimagined Joseon\n",
            "\n",
            "This is a captivating concept for a game with a unique blend of historical and futuristic elements. Imagine a Joseon Dynasty, but instead of traditional bows and swords, it's powered by steam engines and intricate clockwork mechanisms. This world is on the cusp of a revolution, fueled by technological advancements and societal tensions, making for an intriguing narrative and gameplay experience. \n",
            "\n",
            "Here is a deeper dive into potential elements that could bring this game to life:\n",
            "\n",
            "**Story & Setting:**\n",
            "\n",
            "* **A World of Steam and Secrets:** The player is thrust into a world where traditional Joseon architecture is juxtaposed with towering clockwork factories, steam-powered airships soaring above ornate palaces, and intricate automata patrolling the streets. This creates a visually stunning environment with both historical charm and a futuristic edge. \n",
            "* **The Whispers of the Past:** Ancient artifacts and hidden texts hold the key to unlocking the secrets of a forgotten past. The revolution is fueled by a desire to break free from an oppressive, technologically driven regime. The player must unravel the mysteries of this lost civilization to understand the true nature of the current power struggles.\n",
            "* **Choices that Shape Destiny:** The player's actions have a direct impact on the course of the nation. They can choose to support the revolutionaries or align with the current regime, each path leading to distinct consequences. Will the nation embrace progress or return to traditional values? \n",
            "* **A Cast of Complicated Characters:** The player can encounter diverse characters, some loyal to the current regime, others seeking to dismantle it. They can be revolutionaries, inventors, merchants, or members of the aristocracy, all driven by their own motivations and desires.  \n",
            "* **The Clockwork Conspiracy:** The very heart of the game's conflict lies in the control of a powerful clockwork device, possibly a central source of energy or a weapon of mass destruction, hidden by the past. The player must navigate a web of intrigue and uncover its secrets to prevent a catastrophic outcome.\n",
            "\n",
            " **Gameplay:**\n",
            "\n",
            "* **Strategic Combat:** Combines classic Joseon-style combat with steampunk weaponry like steam-powered gauntlets and automaton companions.  The player can strategically use environment, gadgets, and clockwork contraptions to gain the upper hand in battles. \n",
            "* **Exploration and Discovery:** A vast open world filled with diverse environments, bustling cities, and hidden secrets.  Players can explore ancient ruins, delve into the depths of clockwork factories, and unravel the mysteries of the past. \n",
            "* **Character Development:** Players can choose their character’s background, influencing their abilities, relationships, and overall playstyle. They can also customize their appearance and skills. \n",
            "* **Crafting and Invention:** The player can build and modify their own clockwork contraptions, weapons, and even tools to aid them in their journey. \n",
            "\n",
            "\n",
            "**Possible Genres:**\n",
            "\n",
            "* **Action RPG:**  Combines fast-paced combat with exploration and character development. \n",
            "* **Narrative-driven Adventure:**  Emphasizes storytelling and player choices, shaping the fate of the nation.\n",
            "* **Historical Fantasy:** Blends historical elements with steampunk elements for a unique setting. \n",
            "\n",
            "\n",
            " **Overall:**\n",
            "\n",
            " This game offers a rich and immersive experience, blending historical elements with futuristic technology. The core concept allows for compelling storytelling, strategic gameplay, and engaging exploration, making it a potential masterpiece for the gaming industry. The potential for a captivating narrative, intricate character development, and a diverse world of possibilities makes \"A Clockwork Dynasty\" a truly captivating concept. \n",
            "<end_of_turn>\n",
            "<start_of_turn>user\n",
            "Design main characters.<end_of_turn>\n",
            "\n",
            "<start_of_turn>model\n",
            "Here are some main character ideas that would fit within \"A Clockwork Dynasty\", embracing the blend of historical and futuristic elements:\n",
            "\n",
            "**1.  The Renegade Inventor:  Han Seong-Jin**\n",
            "\n",
            "* **Background:** An orphan who grew up on the streets, Han witnessed firsthand the injustices of the regime. Driven by a thirst for justice and fueled by a talent for clockwork engineering, he becomes a revolutionary leader.\n",
            "* **Personality:**  A charismatic and cunning leader with a quick wit and a knack for improvisation.  He believes in progress but knows the dangers of unchecked technology, often questioning the morality of the regime's ambitions.\n",
            "* **Special Ability:**  \"Chronosmith\": Can manipulate clockwork mechanisms to a surprising degree, creating powerful gadgets or augmenting his own body with mechanical enhancements.\n",
            "* **Visuals:** Lean and agile, often seen sporting goggles and a worn leather apron. His attire could be a mix of practical gear and salvaged clockwork parts for a unique aesthetic.\n",
            "\n",
            "**2. The Noble Scholar: Kim So-Yeon**\n",
            "\n",
            "* **Background:** A descendant of a prominent Joseon family, So-Yeon has always been fascinated by the ancient past and the forgotten knowledge hidden within it.  She finds herself drawn to the rebellion and the fight for a better future.\n",
            "* **Personality:**  A thoughtful and introspective character, deeply knowledgeable about history, but struggling to reconcile her family's legacy with the realities of the revolution. \n",
            "* **Special Ability:**  \"The Archivist\": Can decipher and manipulate ancient texts, unlocking hidden knowledge and revealing secrets of the past. \n",
            "* **Visuals:** Elegant and graceful, with flowing hair and delicate jewelry. She would be dressed in traditional court attire but with a touch of modernity, like a hidden pocket for her tools.\n",
            "\n",
            "**3. The Shadowy Agent:  Park Jun-Seo**\n",
            "\n",
            "* **Background:**  A former agent of the regime, Jun-Seo is disillusioned with the system's corruption and seeks to dismantle it from within. He is a master manipulator and strategist, adept at using technology to his advantage.\n",
            "* **Personality:**  Cold and calculating, driven by a thirst for power and a desire to reshape society. He is capable of great empathy and loyalty to those he sees as worthy.\n",
            "* **Special Ability:** \"The Cipher\": Possesses a vast network of contacts and access to secret information. He can manipulate events through subtle manipulation and leverage his connections.\n",
            "* **Visuals:** Darker complexion, sharp features, and a stoic expression. A sleek, dark outfit would be a contrast to his cold exterior.\n",
            "\n",
            "**4. The Unconventional Warrior:  Lee Mi-Jin**\n",
            "\n",
            "* **Background**: A talented warrior who has seen both the brutality of traditional warfare and the power of technology. She is fiercely independent and distrustful of both the regime and the revolution.\n",
            "* **Personality:** Strong-willed and pragmatic, she believes in strength and efficiency above sentiment. Her loyalty is earned, not given, and she's willing to fight for those she trusts.\n",
            "* **Special Ability:** \"Automaton Warrior\":  Master of a unique style of combat that combines traditional weapons with the precision and agility of clockwork automata, which she commands with incredible skill.  \n",
            "* **Visuals:**  A warrior's physique with scars to prove her battles. She wears practical, worn leather armor with intricate clockwork details. \n",
            "\n",
            "\n",
            "**Additional Considerations:**\n",
            "\n",
            "* **Interconnected Relationships:** These characters can have complex relationships, leading to alliances, betrayals, and personal journeys. Their individual stories will intertwine and influence the overall narrative. \n",
            "* **Dynamic Choices:** The player's choices will affect their interactions with these characters, shaping the direction of the story.  \n",
            "\n",
            "\n",
            "By combining their unique personalities, skills, and backstories, \"A Clockwork Dynasty\" has potential to create a compelling cast of characters that will draw players into this exciting world. \n",
            "<end_of_turn>\n",
            "<start_of_turn>user\n",
            "Design villain characters.<end_of_turn>\n",
            "\n",
            "<start_of_turn>model\n",
            "Here are some villain ideas, playing on the tension between tradition and progress in a Joseon Dynasty, reimagined through a steampunk lens:\n",
            "\n",
            "**1.  Lord Kang Min-Woo, The Clockwork Emperor:**\n",
            "\n",
            "* **Personality:** A charismatic, ruthless leader with a deep-seated belief in technological advancement above all else. He sees himself as a modern-day ruler, ushering in an era of unprecedented prosperity through relentless technological progress.\n",
            "* **Motivation:** Kang believes the old ways are flawed, holding humanity back. He seeks to establish a technologically controlled, almost godlike regime, using clockwork to enforce his will.\n",
            "* **Appearance:**  A tall, commanding figure, often dressed in ornate, metallic armor with intricate clockwork details. He exudes an air of both authority and a disturbing, almost mechanical, coldness.  \n",
            "\n",
            "**2. Dr. Choi Jae-Hwan: The Clockwork Alchemist**\n",
            "\n",
            "* **Personality:** A brilliant but twisted scientist obsessed with achieving immortality and control through the manipulation of ancient, forbidden magic and clockwork. He sees technology as his tool for achieving this goal.\n",
            "* **Motivation:** Jae-Hwan believes he is the chosen one, destined to unlock the secrets of the world through his clockwork creations, and sees himself as a god-like figure who will shape the future.\n",
            "* **Appearance:**  An eccentric and gaunt man, with wild, unkempt hair and piercing blue eyes. He wears strange, elaborate robes adorned with clockwork gears and glowing crystals. \n",
            "\n",
            "**3.  The Iron Guard:  The Secret Society of Clockwork Soldiers**\n",
            "\n",
            "* **Background:** An elite military organization loyal only to Lord Kang, they are a fearsome group of cyborgs, automatons, and clockwork-enhanced soldiers. \n",
            "* **Motivation:** The Iron Guard is a symbol of Kang's authority, their unwavering obedience a testament to their devotion to him and their ruthless pursuit of his vision.\n",
            "* **Appearance:**  Their uniforms are sleek and imposing, incorporating clockwork mechanisms that amplify their strength and agility. Their weaponry is a mix of traditional weapons and advanced, clockwork-driven tools. \n",
            "\n",
            " **4.  The Clockwork Queen:  Lady Seo Jin-Hee**\n",
            "\n",
            "* **Personality:** A cunning, manipulative woman who uses her influence and beauty to manipulate the court and advance her own ambitions. She is deeply suspicious and distrustful of outsiders, including the revolutionaries, and seeks to control them.\n",
            "* **Motivation:** Seo is obsessed with preserving the status quo, believing that tradition is the only true path towards stability. She is a skilled manipulator who sees herself as a necessary counterpoint to the revolutionaries' chaotic ambition.\n",
            "* **Appearance:**  An elegant woman with a striking presence. She wears luxurious clothing and jewels, and often utilizes her charm and beauty to influence others, while hiding a cold, calculating mind.\n",
            "\n",
            "\n",
            "**Additional Notes:**\n",
            "\n",
            "* **Conflict:** These villains can represent different factions within the conflict. Lord Kang might represent the regime's power, while Dr. Choi represents the more sinister aspects of technological advancement.  The Iron Guard could be a symbol of the regime's military might, while Lady Seo embodies the resistance's more subtle and manipulative tactics.\n",
            "* **Moral Ambiguity:**  Even these villainous figures might have moments of humanity or moments where their actions are motivated by a sense of justice, even if it is twisted. \n",
            "* **Player Agency:** The player's choices can influence the actions of these villains.  Will the player choose to confront them directly or seek a different path to dismantle their power? \n",
            "\n",
            "\n",
            "\n",
            "\n",
            "These villains can add depth and intrigue to the \"A Clockwork Dynasty\" world. By creating a diverse cast of antagonists, you can provide compelling motivations and opportunities for engaging gameplay. \n",
            "\n",
            "\n",
            "<end_of_turn>\n",
            "<start_of_turn>user\n",
            "Write the main story of this game with an introduction, development, turn, and conclusion.<end_of_turn>\n",
            "\n",
            "<start_of_turn>model\n",
            "## A Clockwork Dynasty: The Whispers of Revolution\n",
            "\n",
            "**Introduction:** \n",
            "\n",
            "Seoul, 1888. Steam-powered airships drift through the clouds, while clockwork automata patrol the streets. The Joseon Dynasty, once steeped in tradition, now teeters on the edge of a technological revolution. The city hums with innovation, but underneath, tensions are rising as the elite, fueled by a desire for progress at any cost, clash with the oppressed masses seeking a return to a simpler, more equitable world.\n",
            "\n",
            "You are Han Seong-Jin, a young orphan who witnessed the brutal crackdown on the first rebellion.  You've honed your skills as a clockwork inventor and leader, driven by a burning desire to dismantle the regime's oppressive power.  \n",
            "\n",
            "**Development:** \n",
            "\n",
            "The game begins with a clandestine meeting in a hidden clockwork workshop. You are introduced to other characters:  So-Yeon, the scholarly descendant of a noble family, and Jun-Seo, a former regime agent turned rebel. They share your vision of a better future, but their paths diverge: So-Yeon seeks knowledge to understand the past, Jun-Seo seeks power to dismantle the current regime. \n",
            "\n",
            "As you navigate the city's underbelly, you encounter the Iron Guard, Kang Min-Woo's elite military force, who enforce his iron fist. The regime’s control is suffocating, and the people yearn for freedom. You are thrust into a world of political intrigue, daring escapes, and dangerous encounters with both the regime's forces and the revolutionaries. \n",
            "\n",
            "**The First Turn:  The Clockwork Conspiracy:**\n",
            "\n",
            "You uncover a secret conspiracy within the Iron Guard – a plan to unleash a devastating weapon powered by ancient, forbidden magic and clockwork technology.  Kang Min-Woo, the Clockwork Emperor, is the orchestrator.  The game's central conflict begins to take shape.\n",
            "\n",
            "You are forced to choose a side, and the consequences are profound.  Do you align yourself with Jun-Seo and his clandestine rebel network, or with So-Yeon and her pursuit of knowledge? Your choices will influence the direction of the revolution, the fate of the regime, and your own path. \n",
            "\n",
            "**The Rising Tension**\n",
            "\n",
            "The conflict intensifies as you uncover the secrets of the Clockwork Emperor's weapon.  The Iron Guard becomes more ruthless in their pursuit of control. You must race against time to expose Kang’s plot to dismantle his power, but the stakes are high.  \n",
            "\n",
            "You face difficult choices.  Will you trust your allies and fight alongside them? Or will you choose solitude and independence, risking the potential loss of those you hold dear? Your decisions will impact the future of the nation and your own personal journey.\n",
            "\n",
            "**The Turning Point:**\n",
            "\n",
            "A pivotal moment arrives: a clash with the Iron Guard, a daring heist to acquire crucial data, or a confrontation with Kang Min-Woo himself.  The player's choices will determine their impact on the revolution, shaping the narrative and leading to a decisive outcome.\n",
            "\n",
            "Will the revolution succeed? Will the Clockwork Emperor be brought to justice? Will the nation be reborn in the image of its past or its future? \n",
            "\n",
            "\n",
            "**Conclusion:**\n",
            "\n",
            "The final chapter of the game sees the culmination of the player’s choices and the consequences that followed.  The fate of the Joseon Dynasty is in the balance, and the outcome will determine the legacy of the revolution.\n",
            "\n",
            "* **A New Era:** The ending can be bittersweet, with hope for a new dawn, but also with the understanding of the challenges that lie ahead in the aftermath of a tumultuous revolution, where the past and the future must coexist.\n",
            "*  **A Cycle of Power:** The ending can also be bleak, with power shifting, leaving the future uncertain. The Clockwork Dynasty might be reborn in a more brutal form, leaving a lingering threat of tyranny.\n",
            "* **Hope for a New World:**  A hopeful ending might involve a new system of governance, where tradition and technology coexist in harmony. The player's choices shape a new future. \n",
            "\n",
            "\n",
            "\n",
            "\n",
            " **Key Themes to Explore:** \n",
            " *  The balance between tradition and progress.\n",
            " *  The power and corruption of technology.\n",
            " *  The fight for freedom and the cost of revolution. \n",
            " *  The complexities of loyalty and the choices we make in the face of adversity. \n",
            " * The importance of individual agency against overwhelming power structures.\n",
            "\n",
            "\n",
            "\n",
            "\n",
            "This outline provides a foundation for your game’s narrative, allowing for player agency and diverse outcomes. It's essential to weave together compelling characters, intriguing plot twists, and thought-provoking themes to create a compelling and unforgettable gaming experience. \n",
            "<end_of_turn>\n"
          ]
        }
      ],
      "source": [
        "chat.show_history()"
      ]
    },
    {
      "cell_type": "markdown",
      "metadata": {
        "id": "YYvLo-OLkj0g"
      },
      "source": [
        "## Clear History"
      ]
    },
    {
      "cell_type": "code",
      "execution_count": 13,
      "metadata": {
        "id": "ngWPjllXkljM"
      },
      "outputs": [],
      "source": [
        "chat.history.clear()"
      ]
    },
    {
      "cell_type": "markdown",
      "metadata": {
        "id": "O0fZNg2Eykbq"
      },
      "source": [
        "## Expansion Idea"
      ]
    },
    {
      "cell_type": "markdown",
      "metadata": {
        "id": "QP1zppatyosv"
      },
      "source": [
        "### Marketing Phrase"
      ]
    },
    {
      "cell_type": "code",
      "execution_count": 14,
      "metadata": {
        "id": "H2PcNCO_ytEP",
        "outputId": "2be81c67-6fac-498c-aa48-738b741475ce",
        "colab": {
          "base_uri": "https://localhost:8080/",
          "height": 597
        }
      },
      "outputs": [
        {
          "output_type": "execute_result",
          "data": {
            "text/plain": [
              "<IPython.core.display.Markdown object>"
            ],
            "text/markdown": "> Here are some marketing phrases for a new steam-powered toothbrush, playing on different angles:\n> \n> **Focusing on the Technology:**\n> \n> * **Steam-Powered Clean: Experience the future of oral care.**\n> * **Revolutionize Your Brushing with Revolutionary Steam Technology.**\n> * **The Power of Steam: Deep clean, fresh breath, every time.**\n> * **Unleash the Steam Cleaning Power for a Brighter Smile.**\n> \n> **Highlighting Benefits:**\n> \n> * **Go Beyond Traditional Brushing: Steam-Powered Cleaning for Deeper Clean.**\n> * **The Ultimate Clean, Effortlessly: Steam Technology at Your Fingertips.**\n> * **Say Goodbye to Plaque, Hello to Fresh Breath: Experience Steam Cleaning.**\n> * **Feel the Difference: Steam-Powered Brushing for a Healthier Smile.**\n> \n> **Creating a Brand Story:**\n> \n> * **Introducing [Brand Name]: The Steam Powered Revolution in Oral Care.**\n> * **A Breath of Fresh Air: Discover the Power of Steam in Oral Care.**\n> * **Forging a Path to a Brighter Smile: Embrace Steam Technology.**\n> * **The Future of Oral Care is Here: Introducing the Steam-Powered Toothbrush.**\n> \n> **Catchy and Short:**\n> \n> * **Steam Clean, Shine Bright.**\n> * **The Next Generation of Oral Care.**\n> * **Unleash the Steam.**\n> * **Fresh Breath, Steam Power.**\n> \n> \n>  **Tips for choosing the best phrase:**\n> \n> * **Consider your target audience.** Who are you trying to reach? \n> * **Focus on the key benefits of the product.** \n> * **Use strong and memorable language.**\n> * **Keep it short and easy to remember.** \n> * **Test different phrases and see which ones resonate best.**\n> \n> \n> \n> Let me know if you need more options!<end_of_turn>"
          },
          "metadata": {},
          "execution_count": 14
        }
      ],
      "source": [
        "chat.history.clear()\n",
        "pitch = \"A new steam-powered toothbrush\"\n",
        "result = chat.send_message(\n",
        "    f\"Generate a marketing phrase for the new product below.\\n{pitch}\"\n",
        ")\n",
        "to_markdown(result)"
      ]
    },
    {
      "cell_type": "markdown",
      "metadata": {
        "id": "oJbiCXoszJVN"
      },
      "source": [
        "### Florist Ideas"
      ]
    },
    {
      "cell_type": "code",
      "execution_count": 15,
      "metadata": {
        "id": "BKXXigmxzZp_",
        "outputId": "1882f691-69fa-4ae5-f7d2-91ceea095163",
        "colab": {
          "base_uri": "https://localhost:8080/",
          "height": 616
        }
      },
      "outputs": [
        {
          "output_type": "execute_result",
          "data": {
            "text/plain": [
              "<IPython.core.display.Markdown object>"
            ],
            "text/markdown": "> ## Florist Idea: \"Celestial Blooms\"\n> \n> **Concept:** This florist would capture the beauty and magic of the universe and the thrill of a shooting star, using celestial elements in their designs. Think starry skies, cosmic swirls, and the awe-inspiring wonder of space.\n> \n> **Theme:**\n> \n> * **Color Palette:** Deep blues, blacks, purples, silver, gold\n> * **Decor:**  Starry night sky fabric draping, constellations on shelves, hanging moon phases, glow-in-the-dark elements. \n> * **Floral Styles:**\n>     * **Starry Arrangements:** Tall, elegant arrangements with long-stemmed flowers like orchids, calla lilies, or protea in shades of purple, blue, or silver, mimicking shooting stars shooting through the sky. \n>     * **Galaxy Bowls:**  Deep, round bowls with cascading flowers like hydrangeas, roses, and lilies, creating a galaxy effect. \n>     * **Moon and Sun:**  A single large sunflower or daisy surrounded by smaller blooms in moon and star shapes.\n>     * **Constellation Arrangements:**  Flowers arranged in a stylized constellation pattern, using different colored foliage and textures.\n> \n> **Suitable Flowers:**\n> \n> * **Stargazer Lilies:** Their unique star-shaped blooms are perfect for capturing the shooting stars theme.\n>     \n> * **Calla Lilies:** Elegant and graceful with a variety of colors, they create a sense of mystery.\n> \n> * **Orchids:**  Long-lasting and available in a range of colors, orchids add a touch of sophistication to the arrangements.\n> \n> * **Hydrangeas:**  These blooms create a sense of fullness and can be used to form galaxy shapes.\n> \n> * **Roses:**  In shades of purple, blue, white, and silver, roses add romance and elegance.\n> \n> * **Proteas:**  These unique flowers with their bold colors and textures create a striking effect.\n> \n> **Additional Touches:**  \n> \n> * Offer custom arrangements with specific constellations.\n> * Use celestial maps and star charts as decorative elements.\n> * Include small, glowing crystals, like moonstones or amethyst, as accent pieces.\n> * Offer a selection of celestial-themed candles or incense. \n> \n> **Target Audience:** This florist would appeal to people who love the beauty of nature, space exploration enthusiasts, and anyone looking for a unique and memorable floral experience.  \n> \n> This florist idea offers endless possibilities to create a truly magical and inspiring space for customers to experience. \n> <end_of_turn>"
          },
          "metadata": {},
          "execution_count": 15
        }
      ],
      "source": [
        "chat.history.clear()\n",
        "pitch = \"Universe and shooting stars\"\n",
        "result = chat.send_message(\n",
        "    f\"Generate a florist idea inspired by the concept below, along with suggestions for suitable flowers.\\n{pitch}\"\n",
        ")\n",
        "to_markdown(result)"
      ]
    },
    {
      "cell_type": "markdown",
      "metadata": {
        "id": "jsNqqjZwziHi"
      },
      "source": [
        "### Food Recipe"
      ]
    },
    {
      "cell_type": "code",
      "execution_count": 16,
      "metadata": {
        "id": "FbXyDjkfznJ_",
        "outputId": "55e7009f-6b8c-4ade-d2fe-31e5b528f72a",
        "colab": {
          "base_uri": "https://localhost:8080/",
          "height": 1000
        }
      },
      "outputs": [
        {
          "output_type": "execute_result",
          "data": {
            "text/plain": [
              "<IPython.core.display.Markdown object>"
            ],
            "text/markdown": "> ## Cyberpunk Kraken: Spiced Squid Ink Pasta\n> \n> **Inspired by the dark depths of the megacity's underbelly and the elusive Kraken, this dish is a fusion of cyberpunk grit and seafood delicacy.**\n> \n> \n> **Concept:**\n> \n> * **Color & Texture:** Deep black squid ink pasta, reminiscent of a shadowy abyss. \n> * **Flavor:** Spicy, umami, and smoky, evoking a cyberpunk urban landscape.\n> * **Texture:**  A mix of chewy squid ink noodles, crisp vegetables and a rich, spicy sauce.\n> \n> **Ingredients:**\n> \n> * **Pasta:** 12 oz Squid Ink Pasta (find it in specialty gourmet stores, often sold as \"black pasta\" or \"squid ink pasta\")\n> * **Squid:** 1 lb Fresh, cleaned squid tentacles, cut into bite-sized pieces (can substitute with frozen calamari)\n> * **Vegetables:**  \n>     * 1 large onion, diced\n>     * 2 cloves garlic, minced\n>     * ½ red bell pepper, diced\n>     * 1 cup chopped mushrooms (cremini or portobello work best) \n> * **Spice:** \n>     * 1 tbsp Smoked paprika\n>     * 1 tsp Chili flakes (adjust to your spice preference)\n>     * 1 tsp ground black pepper\n>     * 1/2 tsp cumin powder\n>     * Salt to taste\n>     * Pinch of cayenne pepper (optional, for extra heat) \n> * **Sauce:** \n>     * 2 tbsp olive oil\n>     * 1/4 cup vegetable broth\n>     * 2 tbsp tomato paste\n>     * 1/4 cup dry red wine (optional, but adds complexity)\n>     * 1/4 cup heavy cream (optional, for richness)\n> * **Garnish:** \n>     * Fresh chopped parsley \n>     * Lemon wedges\n>     * Crumbled feta cheese (optional, for a salty kick)\n>     * Microgreens (optional, for a futuristic flair)\n> \n> **Instructions:** \n> \n> 1. **Cook the Pasta:** Bring a large pot of salted water to a rolling boil.  Cook the squid ink pasta according to package directions, until it reaches al dente.  \n> 2. **Sear the Squid:** Heat 2 tbsp of olive oil in a large pan over medium-high heat.  Sear the squid tentacles, cooking for 2-3 minutes on each side until they are lightly browned. Remove the squid from the pan and set aside.\n> 3. **Sauté the Vegetables:** Add the onion and garlic to the same pan and sauté until softened, about 5 minutes.  Add the diced red pepper, mushrooms, and spices. Sauté for another 5 minutes, stirring occasionally. \n> 4. **Create the Sauce:**  Stir in the vegetable broth, tomato paste, and red wine (if using). Bring to a simmer and cook for 5-7 minutes, or until the sauce has thickened slightly.  \n> 5. **Combine & Add the Squid:**  Add the cooked squid tentacles and the heavy cream (if using) to the pan and stir to coat. \n> 6. **Serve:** Drain the squid ink pasta and add it to the pan with the sauce. Toss to combine and cook for 1-2 minutes, ensuring the sauce coats the pasta evenly. Garnish with chopped parsley, a lemon wedge, crumbled feta cheese (optional), and microgreens (optional).\n> \n>  **Presentation:**  \n> \n> * Serve the Cyberpunk Kraken in a dark ceramic bowl or on individual plates with a cyberpunk-style garnish like a stylized LED light strip or neon paint splatters.  \n> *  Use chopsticks or a futuristic fork for a cyberpunk aesthetic.\n> \n> \n> **Cyberpunk Inspiration:**\n> \n> *  The deep black ink pasta and squid tentacles create a visual connection to the shadowy depths of the megacity.\n> * The spicy and smoky flavors reflect the gritty and rebellious underbelly of the city.\n> *  The optional garnishes add a futuristic flair and enhance the cyberpunk theme.\n> \n> **Enjoy your delicious and cyberpunk-inspired dish!** \n> <end_of_turn>"
          },
          "metadata": {},
          "execution_count": 16
        }
      ],
      "source": [
        "chat.history.clear()\n",
        "pitch = \"Cyberpunk Kraken\"\n",
        "result = chat.send_message(\n",
        "    f\"Generate a cooking recipe with the concept below.\\n{pitch}\"\n",
        ")\n",
        "to_markdown(result)"
      ]
    }
  ],
  "metadata": {
    "accelerator": "GPU",
    "colab": {
      "name": "[Gemma_2]Game_Design_Brainstorming.ipynb",
      "provenance": []
    },
    "kernelspec": {
      "display_name": "Python 3",
      "name": "python3"
    }
  },
  "nbformat": 4,
  "nbformat_minor": 0
}